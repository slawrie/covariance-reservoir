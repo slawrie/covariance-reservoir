{
 "cells": [
  {
   "cell_type": "markdown",
   "metadata": {},
   "source": [
    "# Spoken Arabic digits perceptron analysis\n",
    "\n",
    "This notebook contains code to reproduce the results obtained for the real dataset studied in \"Covariance based information processing in reservoir computing systems\" (https://doi.org/10.1101/2021.04.30.441789). To reproduce the figures presented in the paper (Fig 6 a-b, Fig 9), this code has to be adapted to run multiple times across the reservoir model space (size, leak rate, spectral radius, random seed). However, we only display results for a single reservoir configuration, to reduce computation time. Note that here we do not tune the regularization parameter when using the mean-based readout.\n",
    "\n",
    "To reproduce results for the synthetic datasets, the same code can be used, making the corresponding changes in input data."
   ]
  },
  {
   "cell_type": "code",
   "execution_count": 1,
   "metadata": {},
   "outputs": [],
   "source": [
    "# import libraries\n",
    "\n",
    "import numpy as np\n",
    "from perceptron_models import Perceptron\n",
    "from esn_models import SequentialReservoir\n",
    "import auxiliary_functions as af \n",
    "import time\n",
    "import os\n",
    "import readout_optimizers as ropt\n",
    "import pickle\n",
    "import matplotlib.pyplot as plt"
   ]
  },
  {
   "cell_type": "code",
   "execution_count": 2,
   "metadata": {},
   "outputs": [],
   "source": [
    "# load digits train data and zero pad it\n",
    "my_dir = os.getcwd()\n",
    "digits_train, train_labels = af.preprocess_train_data(my_dir+'/dataset/SpokenArabicDigits_TRAIN.arff', d=50)"
   ]
  },
  {
   "cell_type": "markdown",
   "metadata": {},
   "source": [
    "# **Working without a reservoir**\n",
    "\n",
    "We will first train mean and covariance perceptron (Perceptron class from `perceptron_models.py`)  readouts directly on inputs.\n",
    "\n",
    "In the next cell, we train the covariance perceptron using custom code."
   ]
  },
  {
   "cell_type": "code",
   "execution_count": 3,
   "metadata": {},
   "outputs": [
    {
     "name": "stdout",
     "output_type": "stream",
     "text": [
      "Epoch 1 / 100 finished\n",
      "Epoch 2 / 100 finished\n",
      "Epoch 3 / 100 finished\n",
      "Epoch 4 / 100 finished\n",
      "Epoch 5 / 100 finished\n",
      "Epoch 6 / 100 finished\n",
      "Epoch 7 / 100 finished\n",
      "Epoch 8 / 100 finished\n",
      "Epoch 9 / 100 finished\n",
      "Epoch 10 / 100 finished\n",
      "Epoch 11 / 100 finished\n",
      "Epoch 12 / 100 finished\n",
      "Epoch 13 / 100 finished\n",
      "Epoch 14 / 100 finished\n",
      "Epoch 15 / 100 finished\n",
      "Epoch 16 / 100 finished\n",
      "Epoch 17 / 100 finished\n",
      "Epoch 18 / 100 finished\n",
      "Epoch 19 / 100 finished\n",
      "Epoch 20 / 100 finished\n",
      "Epoch 21 / 100 finished\n",
      "Epoch 22 / 100 finished\n",
      "Epoch 23 / 100 finished\n",
      "Epoch 24 / 100 finished\n",
      "Epoch 25 / 100 finished\n",
      "Epoch 26 / 100 finished\n",
      "Epoch 27 / 100 finished\n",
      "Epoch 28 / 100 finished\n",
      "Epoch 29 / 100 finished\n",
      "Epoch 30 / 100 finished\n",
      "Epoch 31 / 100 finished\n",
      "Epoch 32 / 100 finished\n",
      "Epoch 33 / 100 finished\n",
      "Epoch 34 / 100 finished\n",
      "Epoch 35 / 100 finished\n",
      "Epoch 36 / 100 finished\n",
      "Epoch 37 / 100 finished\n",
      "Epoch 38 / 100 finished\n",
      "Epoch 39 / 100 finished\n",
      "Epoch 40 / 100 finished\n",
      "Epoch 41 / 100 finished\n",
      "Epoch 42 / 100 finished\n",
      "Epoch 43 / 100 finished\n",
      "Epoch 44 / 100 finished\n",
      "Epoch 45 / 100 finished\n",
      "Epoch 46 / 100 finished\n",
      "Epoch 47 / 100 finished\n",
      "Epoch 48 / 100 finished\n",
      "Epoch 49 / 100 finished\n",
      "Epoch 50 / 100 finished\n",
      "Epoch 51 / 100 finished\n",
      "Epoch 52 / 100 finished\n",
      "Epoch 53 / 100 finished\n",
      "Epoch 54 / 100 finished\n",
      "Epoch 55 / 100 finished\n",
      "Epoch 56 / 100 finished\n",
      "Epoch 57 / 100 finished\n",
      "Epoch 58 / 100 finished\n",
      "Epoch 59 / 100 finished\n",
      "Epoch 60 / 100 finished\n",
      "Epoch 61 / 100 finished\n",
      "Epoch 62 / 100 finished\n",
      "Epoch 63 / 100 finished\n",
      "Epoch 64 / 100 finished\n",
      "Epoch 65 / 100 finished\n",
      "Epoch 66 / 100 finished\n",
      "Epoch 67 / 100 finished\n",
      "Epoch 68 / 100 finished\n",
      "Epoch 69 / 100 finished\n",
      "Epoch 70 / 100 finished\n",
      "Epoch 71 / 100 finished\n",
      "Epoch 72 / 100 finished\n",
      "Epoch 73 / 100 finished\n",
      "Epoch 74 / 100 finished\n",
      "Epoch 75 / 100 finished\n",
      "Epoch 76 / 100 finished\n",
      "Epoch 77 / 100 finished\n",
      "Epoch 78 / 100 finished\n",
      "Epoch 79 / 100 finished\n",
      "Epoch 80 / 100 finished\n",
      "Epoch 81 / 100 finished\n",
      "Epoch 82 / 100 finished\n",
      "Epoch 83 / 100 finished\n",
      "Epoch 84 / 100 finished\n",
      "Epoch 85 / 100 finished\n",
      "Epoch 86 / 100 finished\n",
      "Epoch 87 / 100 finished\n",
      "Epoch 88 / 100 finished\n",
      "Epoch 89 / 100 finished\n",
      "Epoch 90 / 100 finished\n",
      "Epoch 91 / 100 finished\n",
      "Epoch 92 / 100 finished\n",
      "Epoch 93 / 100 finished\n",
      "Epoch 94 / 100 finished\n",
      "Epoch 95 / 100 finished\n",
      "Epoch 96 / 100 finished\n",
      "Epoch 97 / 100 finished\n",
      "Epoch 98 / 100 finished\n",
      "Epoch 99 / 100 finished\n",
      "Epoch 100 / 100 finished\n",
      "Training took 781.2039346 seconds\n"
     ]
    }
   ],
   "source": [
    "### Create model ######\n",
    "\n",
    "# Initialize model\n",
    "inSize = 13\n",
    "outSize = 10 # number classes\n",
    "initLen = 0\n",
    "trainLen = 50\n",
    "non_linear = False\n",
    "random_state = 42  #[42, 33, 78, 0, 91, 59, 47, 44, 40, 63] loop over this list to get results from paper\n",
    "epochs = 100 # fixed\n",
    "lr = 0.01 # fixed\n",
    "batch_size = 32 # fixed, we can optimize it through cv grid search on training set, not done here to reduce code execution time \n",
    "\n",
    "model = Perceptron(inSize=inSize, outSize=outSize, non_linear=False, random_state=random_state)\n",
    "optimizer = ropt.GradientDescent(params=model.Wout, batch_size=batch_size, lr=lr, num_classes=10)\n",
    "X_train = digits_train\n",
    "y_train = train_labels\n",
    "\n",
    "# train\n",
    "loss = []\n",
    "np.random.seed(0) \n",
    "train_scores = []\n",
    "start_time = time.perf_counter()\n",
    "for epoch in range(1, epochs + 1):\n",
    "    # batch data, shuffle\n",
    "    index = np.random.choice(X_train.shape[0], size=X_train.shape[0], replace=False)\n",
    "    X_ = X_train[index, :, :]  # shuffled data\n",
    "    y_ = y_train[index]  # shuffled data\n",
    "    epochLoss = []\n",
    "    for (batchX, batchY) in af.next_batch(X_, y_, batch_size):\n",
    "        Qerror = optimizer.get_loss(batchX, batchY)\n",
    "        epochLoss.append(np.sum(Qerror ** 2) / batchX.shape[0])\n",
    "        delta = optimizer.get_gradients(batchX, Qerror)\n",
    "        optimizer.update_params(delta)\n",
    "\n",
    "    loss.append(np.mean(epochLoss))\n",
    "\n",
    "    model.Wout = optimizer.params\n",
    "    model.run(X_train, initLen=initLen, trainLen=trainLen, covariance=True)\n",
    "    # score\n",
    "    y_pred = model.predict(mode='covariance')\n",
    "    score = model.score(y_train, y_pred)\n",
    "    train_scores.append(score)\n",
    "    print(f'Epoch {epoch} / {epochs} finished')\n",
    "\n",
    "end_time = time.perf_counter()\n",
    "print(f'Training took {end_time - start_time} seconds')\n",
    "    \n",
    "\n"
   ]
  },
  {
   "cell_type": "code",
   "execution_count": 4,
   "metadata": {},
   "outputs": [
    {
     "data": {
      "image/png": "[encoded data removed]",
      "text/plain": [
       "<Figure size 432x288 with 1 Axes>"
      ]
     },
     "metadata": {},
     "output_type": "display_data"
    }
   ],
   "source": [
    "# plot training score (or loss, up to you)\n",
    "plt.plot(np.arange(len(train_scores)), train_scores, color='r')\n",
    "plt.xlabel('Epoch')\n",
    "plt.ylabel('Training score')\n",
    "plt.show()"
   ]
  },
  {
   "cell_type": "code",
   "execution_count": 5,
   "metadata": {},
   "outputs": [],
   "source": [
    "# now we get test performance for our covariance perceptron model\n",
    "# load test data\n",
    "digits_test, test_labels = af.preprocess_test_data(my_dir+'/dataset/SpokenArabicDigits_TEST.arff', d=50)\n"
   ]
  },
  {
   "cell_type": "code",
   "execution_count": 6,
   "metadata": {},
   "outputs": [
    {
     "name": "stdout",
     "output_type": "stream",
     "text": [
      "Test score of final covariance perceptron model is 59.79990904956799\n"
     ]
    }
   ],
   "source": [
    "# get test score\n",
    "model.run(digits_test, initLen=initLen, trainLen=trainLen, covariance=True)\n",
    "y_pred = model.predict(mode='covariance')\n",
    "score = model.score(test_labels, y_pred)\n",
    "print(f'Test score of final covariance perceptron model is {100*score}')"
   ]
  },
  {
   "cell_type": "markdown",
   "metadata": {},
   "source": [
    "Now we will train an example of mean-based perceptron model"
   ]
  },
  {
   "cell_type": "code",
   "execution_count": 7,
   "metadata": {},
   "outputs": [
    {
     "name": "stdout",
     "output_type": "stream",
     "text": [
      "Training score is 60.93347476890438\n",
      "Test score is 58.29922692132787\n"
     ]
    }
   ],
   "source": [
    "mean_model = Perceptron(inSize=inSize, outSize=outSize, non_linear=False, random_state=random_state)\n",
    "# train mean model\n",
    "optimizer = ropt.RidgeReg(params=mean_model.Wout, batch_size=None, solver='auto', alpha=0.1, fit_intercept=True,\n",
    "                          num_classes=10)\n",
    "\n",
    "optimizer.fit(X=X_train, y=y_train.tolist())\n",
    "\n",
    "# update parameters and save readout\n",
    "model.Wout = optimizer.params\n",
    "\n",
    "model.run(X_train, initLen=initLen, trainLen=trainLen, mean=True)\n",
    "\n",
    "# score\n",
    "y_pred = model.predict(mode='mean')\n",
    "print(f'Training score is {100*mean_model.score(train_labels, y_pred)}')\n",
    "\n",
    "# test score\n",
    "mean_model.run(digits_test, initLen=initLen, trainLen=trainLen, mean=True)\n",
    "y_pred = mean_model.predict(mode='mean')\n",
    "print(f'Test score is {100*mean_model.score(test_labels, y_pred)}')"
   ]
  },
  {
   "cell_type": "markdown",
   "metadata": {},
   "source": [
    "# Working with a reservoir\n",
    "\n",
    "When using a reservoir in the pipeline, we simply do a \"preprocessing step\" where we feed the digit inputs, collect the reservoir states and afterwards use this data to train a covariance or a mean perceptron readout. As example, we will use a single reservoir of size N=50, leak=0.2 and radius = 1.2. Again, results to get figures must be ran multiple times across reservoir space parameters initialized with different random seeds. Importantly, we did not optimize the batch size for learning here, as done for the previous covariance perceptron readouts. "
   ]
  },
  {
   "cell_type": "code",
   "execution_count": 8,
   "metadata": {},
   "outputs": [
    {
     "name": "stdout",
     "output_type": "stream",
     "text": [
      "Collecting reservoir states took 1.6431916000000228 seconds\n"
     ]
    }
   ],
   "source": [
    "# create reservoir\n",
    "inSize = 13 # input dimension\n",
    "resSize = 50 #reservoir size\n",
    "outsize=10 # classes\n",
    "leak = 0.2\n",
    "radius = 1.2\n",
    "random_state = 42\n",
    "initLen =  0 # collect states from beginning, no washout transient\n",
    "trainLen = 50 # this is parameter d in the paper\n",
    "reservoir = SequentialReservoir(inSize=inSize, resSize=resSize, outSize=outSize, leak=leak, radius=radius, random_state=random_state)\n",
    "\n",
    "# collect states\n",
    "time_start = time.perf_counter()\n",
    "reservoir.run(digits_train, initLen=initLen, trainLen=trainLen)\n",
    "train_states = reservoir.resStates\n",
    "time_end = time.perf_counter()\n",
    "print(f'Collecting reservoir states took {time_end-time_start} seconds')"
   ]
  },
  {
   "cell_type": "code",
   "execution_count": 9,
   "metadata": {},
   "outputs": [
    {
     "name": "stdout",
     "output_type": "stream",
     "text": [
      "Epoch 1 / 25 finished\n",
      "Epoch 2 / 25 finished\n",
      "Epoch 3 / 25 finished\n",
      "Epoch 4 / 25 finished\n",
      "Epoch 5 / 25 finished\n",
      "Epoch 6 / 25 finished\n",
      "Epoch 7 / 25 finished\n",
      "Epoch 8 / 25 finished\n",
      "Epoch 9 / 25 finished\n",
      "Epoch 10 / 25 finished\n",
      "Epoch 11 / 25 finished\n",
      "Epoch 12 / 25 finished\n",
      "Epoch 13 / 25 finished\n",
      "Epoch 14 / 25 finished\n",
      "Epoch 15 / 25 finished\n",
      "Epoch 16 / 25 finished\n",
      "Epoch 17 / 25 finished\n",
      "Epoch 18 / 25 finished\n",
      "Epoch 19 / 25 finished\n",
      "Epoch 20 / 25 finished\n",
      "Epoch 21 / 25 finished\n",
      "Epoch 22 / 25 finished\n",
      "Epoch 23 / 25 finished\n",
      "Epoch 24 / 25 finished\n",
      "Epoch 25 / 25 finished\n",
      "Training took 990.6178782 seconds\n",
      "Training score is 90.01363843006516\n"
     ]
    }
   ],
   "source": [
    "# Now train covariance model\n",
    "\n",
    "# optimizer parameters\n",
    "epochs = 25 # use 100 to get paper results\n",
    "batch_size = 1 # not optimized\n",
    "lr = 0.01\n",
    "\n",
    "optimizer = ropt.GradientDescent(params=reservoir.Wout, batch_size=batch_size,\n",
    "                                lr=lr, num_classes=10)\n",
    "\n",
    "loss = []\n",
    "start_time = time.perf_counter()\n",
    "for epoch in range(1, epochs + 1):\n",
    "    # batch data, shuffle\n",
    "    index = np.random.choice(train_states.shape[0], size=train_states.shape[0], replace=False)\n",
    "    X_ = train_states[index, :, :]  # shuffled data\n",
    "    y_ = train_labels[index]  # shuffled data\n",
    "    epochLoss = []\n",
    "    for (batchX, batchY) in af.next_batch(X_, y_, batch_size):\n",
    "        Qerror = optimizer.get_loss(batchX, batchY)\n",
    "        epochLoss.append(np.sum(Qerror**2)/batchX.shape[0])\n",
    "        delta = optimizer.get_gradients(batchX, Qerror)\n",
    "        optimizer.update_params(delta)\n",
    "\n",
    "    loss.append(np.mean(epochLoss))\n",
    "    reservoir.Wout = optimizer.params\n",
    "    print(f'Epoch {epoch} / {epochs} finished')\n",
    "\n",
    "end_time = time.perf_counter()\n",
    "print(f'Training took {end_time - start_time} seconds')\n",
    "\n",
    "# update parameters\n",
    "reservoir.resStates = train_states\n",
    "reservoir.update_outputs(initLen=initLen, trainLen=trainLen, covariance=True)\n",
    "# score\n",
    "y_pred = reservoir.predict(mode='covariance')\n",
    "score = reservoir.score(train_labels, y_pred)\n",
    "print(f'Training score is {100*score}')"
   ]
  },
  {
   "cell_type": "code",
   "execution_count": 10,
   "metadata": {},
   "outputs": [
    {
     "data": {
      "image/png": "[encoded data removed]",
      "text/plain": [
       "<Figure size 432x288 with 1 Axes>"
      ]
     },
     "metadata": {},
     "output_type": "display_data"
    }
   ],
   "source": [
    "# plot training loss\n",
    "plt.plot(np.arange(len(loss)), loss, color='r')\n",
    "plt.xlabel('Epoch')\n",
    "plt.ylabel('Loss')\n",
    "plt.show()"
   ]
  },
  {
   "cell_type": "code",
   "execution_count": 11,
   "metadata": {},
   "outputs": [
    {
     "name": "stdout",
     "output_type": "stream",
     "text": [
      "Test acore is 92.54206457480673\n"
     ]
    }
   ],
   "source": [
    "# get test score\n",
    "\n",
    "reservoir.run(digits_test, initLen=initLen, trainLen=trainLen)\n",
    "reservoir.update_outputs(initLen=initLen, trainLen=trainLen, covariance=True)\n",
    "# score\n",
    "y_pred = reservoir.predict(mode='covariance')\n",
    "score=reservoir.score(test_labels, y_pred)\n",
    "print(f'Test acore is {100*score}')"
   ]
  },
  {
   "cell_type": "markdown",
   "metadata": {},
   "source": [
    "We will now get the digit recognition accuracy when coupling the reservoir to a mean-based perceptron readout"
   ]
  },
  {
   "cell_type": "code",
   "execution_count": 12,
   "metadata": {},
   "outputs": [
    {
     "name": "stdout",
     "output_type": "stream",
     "text": [
      "Collecting reservoir states took 1.727585099999942 seconds\n"
     ]
    }
   ],
   "source": [
    "# we will create a new reservoir so it starts from same conditions as previous one\n",
    "inSize = 13 # input dimension\n",
    "resSize = 50 #reservoir size\n",
    "outsize=10 # classes\n",
    "leak = 0.2\n",
    "radius = 1.2\n",
    "random_state = 42\n",
    "initLen =  0 # collect states from beginning, no washout transient\n",
    "trainLen = 50 # this is parameter d in the paper\n",
    "reservoir_2 = SequentialReservoir(inSize=inSize, resSize=resSize, outSize=outSize, leak=leak, radius=radius, random_state=random_state)\n",
    "\n",
    "# collect states\n",
    "time_start = time.perf_counter()\n",
    "reservoir_2.run(digits_train, initLen=initLen, trainLen=trainLen)\n",
    "train_states = reservoir_2.resStates\n",
    "time_end = time.perf_counter()\n",
    "print(f'Collecting reservoir states took {time_end-time_start} seconds')\n"
   ]
  },
  {
   "cell_type": "code",
   "execution_count": 13,
   "metadata": {},
   "outputs": [
    {
     "name": "stdout",
     "output_type": "stream",
     "text": [
      "Training score is 86.86164570389452\n"
     ]
    }
   ],
   "source": [
    "# train mean model\n",
    "optimizer = ropt.RidgeReg(params=reservoir_2.Wout, batch_size=None, solver='auto', alpha=0.1, fit_intercept=True, num_classes=10)\n",
    "optimizer.fit(X=train_states, y=train_labels.tolist())\n",
    "\n",
    "# update parameters and save readout\n",
    "reservoir_2.Wout = optimizer.params\n",
    "reservoir_2.update_outputs(initLen=initLen, trainLen=trainLen, mean=True)\n",
    "\n",
    "# score\n",
    "y_pred = reservoir_2.predict(mode='mean')\n",
    "print(f'Training score is {100*reservoir_2.score(train_labels, y_pred)}')\n",
    "                "
   ]
  },
  {
   "cell_type": "code",
   "execution_count": 15,
   "metadata": {},
   "outputs": [
    {
     "name": "stdout",
     "output_type": "stream",
     "text": [
      "Test score is 86.31195998180992\n"
     ]
    }
   ],
   "source": [
    "# get test score\n",
    "\n",
    "reservoir_2.run(digits_test, initLen=initLen, trainLen=trainLen)\n",
    "reservoir_2.update_outputs(initLen=initLen, trainLen=trainLen, mean=True)\n",
    "\n",
    "#score\n",
    "y_pred = reservoir_2.predict(mode='mean')\n",
    "print(f'Test score is {100*reservoir_2.score(test_labels, y_pred)}')\n"
   ]
  },
  {
   "cell_type": "code",
   "execution_count": null,
   "metadata": {},
   "outputs": [],
   "source": []
  }
 ],
 "metadata": {
  "kernelspec": {
   "display_name": "PyTorch",
   "language": "python",
   "name": "pytorch"
  },
  "language_info": {
   "codemirror_mode": {
    "name": "ipython",
    "version": 3
   },
   "file_extension": ".py",
   "mimetype": "text/x-python",
   "name": "python",
   "nbconvert_exporter": "python",
   "pygments_lexer": "ipython3",
   "version": "3.6.6"
  }
 },
 "nbformat": 4,
 "nbformat_minor": 2
}
